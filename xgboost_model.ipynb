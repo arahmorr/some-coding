{
  "nbformat": 4,
  "nbformat_minor": 0,
  "metadata": {
    "colab": {
      "name": "xgboost.ipynb",
      "provenance": []
    },
    "kernelspec": {
      "display_name": "Python 3",
      "language": "python",
      "name": "python3"
    },
    "language_info": {
      "codemirror_mode": {
        "name": "ipython",
        "version": 3
      },
      "file_extension": ".py",
      "mimetype": "text/x-python",
      "name": "python",
      "nbconvert_exporter": "python",
      "pygments_lexer": "ipython3",
      "version": "3.7.6"
    }
  },
  "cells": [
    {
      "cell_type": "code",
      "metadata": {
        "colab_type": "code",
        "id": "ldb9eR4HqrAN",
        "colab": {}
      },
      "source": [
        "import xgboost as xgb\n",
        "from sklearn.datasets import load_boston\n",
        "from sklearn.model_selection import train_test_split\n",
        "from sklearn.model_selection import cross_val_score, KFold\n",
        "from sklearn.metrics import mean_squared_error\n",
        "import matplotlib.pyplot as plt \n",
        "import numpy as np\n",
        "import pandas as pd"
      ],
      "execution_count": null,
      "outputs": []
    },
    {
      "cell_type": "code",
      "metadata": {
        "colab_type": "code",
        "id": "asUa5j_bswo8",
        "colab": {
          "base_uri": "https://localhost:8080/",
          "height": 55
        },
        "outputId": "32be0738-ac80-418f-9b64-de2c8085e596"
      },
      "source": [
        "from google.colab import drive\n",
        "drive.mount('/content/drive')"
      ],
      "execution_count": null,
      "outputs": [
        {
          "output_type": "stream",
          "text": [
            "Drive already mounted at /content/drive; to attempt to forcibly remount, call drive.mount(\"/content/drive\", force_remount=True).\n"
          ],
          "name": "stdout"
        }
      ]
    },
    {
      "cell_type": "code",
      "metadata": {
        "colab_type": "code",
        "id": "dq9QK8acqsNt",
        "colab": {}
      },
      "source": [
        "#boston = load_boston()\n",
        "df = pd.read_csv('/content/drive/My Drive/dtc2.csv', encoding='latin-1')\n",
        "df2 = pd.read_csv('/content/drive/My Drive/dci2.csv', encoding='latin-1')"
      ],
      "execution_count": null,
      "outputs": []
    },
    {
      "cell_type": "code",
      "metadata": {
        "colab_type": "code",
        "id": "2Rd1vkJXqzhG",
        "colab": {}
      },
      "source": [
        "#x, y = df, df\n",
        "#xtrain, xtest, ytrain, ytest=train_test_split(x, y, test_size=0.15)\n",
        "df.columns\n",
        "def get_String_Month(n):\n",
        "    i=n-1\n",
        "    mes=['ENE', 'FEB', 'MAR', 'APR', 'MAY', 'JUN', 'JUL', 'AGO', 'SEP', 'OCT', 'NOV', 'DEC']\n",
        "    return mes[i]\n",
        "\n",
        "df['Mes_S']=df.apply(lambda r: get_String_Month(r['Mes']), axis=1)\n",
        "df['NO_S'] =df.apply(lambda r: str(r['NO']), axis=1)\n",
        "df['ND_S'] =df.apply(lambda r: str(r['ND']), axis=1)\n",
        "df['NO_ND']=df.apply(lambda r: str(r['ND'])+'-'+str(r['NO']), axis=1)"
      ],
      "execution_count": null,
      "outputs": []
    },
    {
      "cell_type": "code",
      "metadata": {
        "id": "Q0GmppPONPNo",
        "colab_type": "code",
        "colab": {}
      },
      "source": [
        "df2.columns\n",
        "def get_String_Month(n):\n",
        "    i=n-1\n",
        "    mes=['ENE', 'FEB', 'MAR', 'APR', 'MAY', 'JUN', 'JUL', 'AGO', 'SEP', 'OCT', 'NOV', 'DEC']\n",
        "    return mes[i]\n",
        "\n",
        "df2['Mes_S']=df2.apply(lambda r: get_String_Month(r['Mes']), axis=1)\n",
        "df2['NO_S'] =df2.apply(lambda r: str(r['NO']), axis=1)\n",
        "df2['ND_S'] =df2.apply(lambda r: str(r['ND']), axis=1)\n",
        "df2['NO_ND']=df2.apply(lambda r: str(r['ND'])+'-'+str(r['NO']), axis=1)"
      ],
      "execution_count": null,
      "outputs": []
    },
    {
      "cell_type": "code",
      "metadata": {
        "colab_type": "code",
        "id": "Z1WMVrd_7kLE",
        "colab": {}
      },
      "source": [
        "x = df.drop(['IdF','DiaN','DemoraTotal','Mes', 'NO', 'ND', 'NO_S', 'ND_S'], axis=1)\n",
        "x = pd.get_dummies(df)\n",
        "y = df[['DemoraTotal']]\n",
        "xtrain, xtest, ytrain, ytest=train_test_split(x, y, test_size=0.25)"
      ],
      "execution_count": null,
      "outputs": []
    },
    {
      "cell_type": "code",
      "metadata": {
        "colab_type": "code",
        "id": "kDp6NMEZNsiP",
        "colab": {}
      },
      "source": [
        "x2 = df2.drop(['IdF','DiaN','DemoraTotal','Mes', 'NO', 'ND', 'NO_S', 'ND_S'], axis=1)\n",
        "x2 = pd.get_dummies(df2)\n",
        "y2 = df2[['DemoraTotal']]\n",
        "xtrain2, xtest2, ytrain2, ytest2=train_test_split(x2, y2, test_size=0.25)"
      ],
      "execution_count": null,
      "outputs": []
    },
    {
      "cell_type": "code",
      "metadata": {
        "colab_type": "code",
        "id": "YogO6Ui3q7J0",
        "colab": {
          "base_uri": "https://localhost:8080/",
          "height": 139
        },
        "outputId": "4669f2fc-f665-4e66-d805-b6f51cc4f83e"
      },
      "source": [
        "xgbr = xgb.XGBRegressor(objective='reg:squarederror',n_estimators=10, reg_lambda=2)\n",
        "print(xgbr)"
      ],
      "execution_count": null,
      "outputs": [
        {
          "output_type": "stream",
          "text": [
            "XGBRegressor(base_score=0.5, booster='gbtree', colsample_bylevel=1,\n",
            "             colsample_bynode=1, colsample_bytree=1, gamma=0,\n",
            "             importance_type='gain', learning_rate=0.1, max_delta_step=0,\n",
            "             max_depth=3, min_child_weight=1, missing=None, n_estimators=10,\n",
            "             n_jobs=1, nthread=None, objective='reg:squarederror',\n",
            "             random_state=0, reg_alpha=0, reg_lambda=2, scale_pos_weight=1,\n",
            "             seed=None, silent=None, subsample=1, verbosity=1)\n"
          ],
          "name": "stdout"
        }
      ]
    },
    {
      "cell_type": "code",
      "metadata": {
        "colab_type": "code",
        "id": "DvGmzV21q9Jo",
        "colab": {
          "base_uri": "https://localhost:8080/",
          "height": 139
        },
        "outputId": "bf57ac51-c558-46c4-dd67-e9da92340f6b"
      },
      "source": [
        "xgbr.fit(xtrain, ytrain)\n",
        "#xgbr.fit(xtrain2, ytrain2)\n"
      ],
      "execution_count": null,
      "outputs": [
        {
          "output_type": "execute_result",
          "data": {
            "text/plain": [
              "XGBRegressor(base_score=0.5, booster='gbtree', colsample_bylevel=1,\n",
              "             colsample_bynode=1, colsample_bytree=1, gamma=0,\n",
              "             importance_type='gain', learning_rate=0.1, max_delta_step=0,\n",
              "             max_depth=3, min_child_weight=1, missing=None, n_estimators=10,\n",
              "             n_jobs=1, nthread=None, objective='reg:squarederror',\n",
              "             random_state=0, reg_alpha=0, reg_lambda=2, scale_pos_weight=1,\n",
              "             seed=None, silent=None, subsample=1, verbosity=1)"
            ]
          },
          "metadata": {
            "tags": []
          },
          "execution_count": 28
        }
      ]
    },
    {
      "cell_type": "code",
      "metadata": {
        "colab_type": "code",
        "id": "sqWy5WC3q_Dr",
        "colab": {
          "base_uri": "https://localhost:8080/",
          "height": 52
        },
        "outputId": "717c7d82-2976-49fe-ba2f-708914a9b5c2"
      },
      "source": [
        " # - cross validataion \n",
        "scores = cross_val_score(xgbr, xtrain, ytrain, cv=5)\n",
        "print(\"Mean cross-validation score: %.2f\" % scores.mean())\n",
        "\n",
        "kfold = KFold(n_splits=10, shuffle=True)\n",
        "kf_cv_scores = cross_val_score(xgbr, xtrain, ytrain, cv=kfold )\n",
        "print(\"K-fold CV average score: %.2f\" % kf_cv_scores.mean())\n",
        " \n"
      ],
      "execution_count": null,
      "outputs": [
        {
          "output_type": "stream",
          "text": [
            "Mean cross-validation score: 0.84\n",
            "K-fold CV average score: 0.84\n"
          ],
          "name": "stdout"
        }
      ]
    },
    {
      "cell_type": "code",
      "metadata": {
        "id": "E2lXi6hdSawf",
        "colab_type": "code",
        "colab": {
          "base_uri": "https://localhost:8080/",
          "height": 52
        },
        "outputId": "0620a2b0-84f2-4931-c19e-38cb8c83fc26"
      },
      "source": [
        "ypred = xgbr.predict(xtest)\n",
        "mse = mean_squared_error(ytest, ypred)\n",
        "print(\"MSE: %.2f\" % mse)\n",
        "print(\"RMSE: %.2f\" % np.sqrt(mse))"
      ],
      "execution_count": null,
      "outputs": [
        {
          "output_type": "stream",
          "text": [
            "MSE: 210.78\n",
            "RMSE: 14.52\n"
          ],
          "name": "stdout"
        }
      ]
    },
    {
      "cell_type": "code",
      "metadata": {
        "colab_type": "code",
        "id": "MBA0z0OUSSTi",
        "colab": {
          "base_uri": "https://localhost:8080/",
          "height": 139
        },
        "outputId": "773eb793-2740-4ee3-f632-5ef779ada003"
      },
      "source": [
        "xgbr.fit(xtrain2, ytrain2)\n"
      ],
      "execution_count": null,
      "outputs": [
        {
          "output_type": "execute_result",
          "data": {
            "text/plain": [
              "XGBRegressor(base_score=0.5, booster='gbtree', colsample_bylevel=1,\n",
              "             colsample_bynode=1, colsample_bytree=1, gamma=0,\n",
              "             importance_type='gain', learning_rate=0.1, max_delta_step=0,\n",
              "             max_depth=3, min_child_weight=1, missing=None, n_estimators=10,\n",
              "             n_jobs=1, nthread=None, objective='reg:squarederror',\n",
              "             random_state=0, reg_alpha=0, reg_lambda=2, scale_pos_weight=1,\n",
              "             seed=None, silent=None, subsample=1, verbosity=1)"
            ]
          },
          "metadata": {
            "tags": []
          },
          "execution_count": 31
        }
      ]
    },
    {
      "cell_type": "code",
      "metadata": {
        "colab_type": "code",
        "id": "LmIrPV8OO7Ve",
        "colab": {
          "base_uri": "https://localhost:8080/",
          "height": 52
        },
        "outputId": "ea760579-b811-447c-f813-d00ffdcec1bf"
      },
      "source": [
        " # - cross validataion \n",
        "scores2 = cross_val_score(xgbr, xtrain2, ytrain2, cv=5)\n",
        "print(\"Mean cross-validation score: %.2f\" % scores2.mean())\n",
        "\n",
        "#kfold = KFold(n_splits=10, shuffle=True)\n",
        "kf_cv_scores2 = cross_val_score(xgbr, xtrain2, ytrain2, cv=kfold )\n",
        "print(\"K-fold CV average score: %.2f\" % kf_cv_scores2.mean())\n",
        " \n"
      ],
      "execution_count": null,
      "outputs": [
        {
          "output_type": "stream",
          "text": [
            "Mean cross-validation score: 0.85\n",
            "K-fold CV average score: 0.85\n"
          ],
          "name": "stdout"
        }
      ]
    },
    {
      "cell_type": "code",
      "metadata": {
        "colab_type": "code",
        "id": "APt80ClIrFNS",
        "colab": {
          "base_uri": "https://localhost:8080/",
          "height": 52
        },
        "outputId": "16405237-32ad-4313-f76e-a5634e1bd4fe"
      },
      "source": [
        "ypred2 = xgbr.predict(xtest2)\n",
        "mse2 = mean_squared_error(ytest2, ypred2)\n",
        "print(\"MSE: %.2f\" % mse2)\n",
        "print(\"RMSE: %.2f\" % np.sqrt(mse2))\n"
      ],
      "execution_count": null,
      "outputs": [
        {
          "output_type": "stream",
          "text": [
            "MSE: 97.92\n",
            "RMSE: 9.90\n"
          ],
          "name": "stdout"
        }
      ]
    },
    {
      "cell_type": "code",
      "metadata": {
        "colab_type": "code",
        "id": "uL75sDWxrH6G",
        "colab": {
          "base_uri": "https://localhost:8080/",
          "height": 265
        },
        "outputId": "96a1b20a-265a-4197-9cb7-c980dc121b1a"
      },
      "source": [
        "x_ax = range(len(ytest))\n",
        "plt.scatter(x_ax, ytest, s=5, color=\"blue\", label=\"original\")\n",
        "plt.plot(x_ax, ypred, lw=0.8, color=\"red\", label=\"predicted\")\n",
        "plt.legend()\n",
        "plt.show()"
      ],
      "execution_count": null,
      "outputs": [
        {
          "output_type": "display_data",
          "data": {
            "image/png": "[encoded data removed]",
            "text/plain": [
              "<Figure size 432x288 with 1 Axes>"
            ]
          },
          "metadata": {
            "tags": [],
            "needs_background": "light"
          }
        }
      ]
    },
    {
      "cell_type": "code",
      "metadata": {
        "colab_type": "code",
        "id": "LG1eR5yhPVQL",
        "colab": {
          "base_uri": "https://localhost:8080/",
          "height": 268
        },
        "outputId": "f9d98229-b782-4fc2-cf8f-0f2ed2f2c54f"
      },
      "source": [
        "x_ax2 = range(len(ytest2))\n",
        "plt.scatter(x_ax2, ytest2, s=5, color=\"blue\", label=\"original\")\n",
        "plt.plot(x_ax2, ypred2, lw=0.8, color=\"red\", label=\"predicted\")\n",
        "plt.legend()\n",
        "plt.show()"
      ],
      "execution_count": null,
      "outputs": [
        {
          "output_type": "display_data",
          "data": {
            "image/png": "[encoded data removed]",
            "text/plain": [
              "<Figure size 432x288 with 1 Axes>"
            ]
          },
          "metadata": {
            "tags": [],
            "needs_background": "light"
          }
        }
      ]
    },
    {
      "cell_type": "code",
      "metadata": {
        "id": "8yDp3t0QDcuL",
        "colab_type": "code",
        "colab": {}
      },
      "source": [
        ""
      ],
      "execution_count": null,
      "outputs": []
    }
  ]
}